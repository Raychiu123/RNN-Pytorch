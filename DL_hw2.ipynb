{
 "cells": [
  {
   "cell_type": "markdown",
   "metadata": {},
   "source": [
    "## Dataset and Data Preprocessing\n",
    "### data1: <https://openreview.net/group?id=ICLR.cc/2018/Conference#accepted-oral-papers>\n",
    "### data2: <https://openreview.net/group?id=ICLR.cc/2017/conference>"
   ]
  },
  {
   "cell_type": "code",
   "execution_count": 1,
   "metadata": {},
   "outputs": [
    {
     "name": "stdout",
     "output_type": "stream",
     "text": [
      "['Hierarchical Adversarially Learned Inference']\n"
     ]
    },
    {
     "data": {
      "text/plain": [
       "(753, 1)"
      ]
     },
     "execution_count": 1,
     "metadata": {},
     "output_type": "execute_result"
    }
   ],
   "source": [
    "import numpy as np\n",
    "import pandas as pd\n",
    "# -------------------------------------------------------------#\n",
    "# Load data and proprocessing\n",
    "# -------------------------------------------------------------#\n",
    "data_URL1 = 'ICLR_accepted1.xlsx'\n",
    "data_URL2 = 'ICLR_rejected1.xlsx'\n",
    "df1 = pd.read_excel(data_URL1)\n",
    "df2 = pd.read_excel(data_URL2)\n",
    "\n",
    "text1 = df1.values\n",
    "text2 = df2.values\n",
    "print(text2[0])\n",
    "text2.shape"
   ]
  },
  {
   "cell_type": "code",
   "execution_count": 2,
   "metadata": {},
   "outputs": [
    {
     "name": "stdout",
     "output_type": "stream",
     "text": [
      "Inference\n",
      "['Hierarchical', 'Adversarially', 'Learned', 'Inference']\n"
     ]
    }
   ],
   "source": [
    "text1_seperate_all = [] ## 每個句子一個一個字合併在一起\n",
    "text1_seperate = [] ## 句子文字拆開\n",
    "text2_seperate_all = []\n",
    "text2_seperate = []\n",
    "for i in range(len(text1)):\n",
    "    tmp = []\n",
    "    tmp.append(text1[i][0].split(' '))\n",
    "    text1_seperate.append(text1[i][0].split(' '))\n",
    "    text1_seperate_all += tmp[0]\n",
    "for i in range(len(text2)):\n",
    "    tmp = []\n",
    "    tmp.append(text2[i][0].split(' '))\n",
    "    text2_seperate.append(text2[i][0].split(' '))\n",
    "    text2_seperate_all += tmp[0]\n",
    "\n",
    "text_seperate_all = text1_seperate_all + text2_seperate_all\n",
    "print(text2_seperate_all[3])\n",
    "print(text2_seperate[0])"
   ]
  },
  {
   "cell_type": "code",
   "execution_count": 3,
   "metadata": {},
   "outputs": [
    {
     "name": "stdout",
     "output_type": "stream",
     "text": [
      "['Minimal-Entropy' 'Correlation' 'Alignment' 'for' 'Unsupervised' 'Deep'\n",
      " 'Domain' 'Adaptation' 'Large' 'Scale' 'Optimal' 'Transport' 'and'\n",
      " 'Mapping' 'Estimation' 'TRUNCATED' 'HORIZON' 'POLICY' 'SEARCH:'\n",
      " 'COMBINING']\n",
      "[1384  494  115 2698 2415  576  680   90 1216 2018 1585 2353 2537 1334\n",
      "  785 2258 1014 1626 1973  311]\n",
      "['#Exploration:']\n"
     ]
    }
   ],
   "source": [
    "from numpy import array\n",
    "from numpy import argmax\n",
    "from sklearn.preprocessing import LabelEncoder\n",
    "\n",
    "data = text_seperate_all\n",
    "values = array(data)\n",
    "print(values[:20])\n",
    "# integer encode\n",
    "label_encoder = LabelEncoder()\n",
    "integer_encoded = label_encoder.fit_transform(values)\n",
    "print(integer_encoded[:20])\n",
    "\n",
    "# invert integer\n",
    "inverted = label_encoder.inverse_transform(integer_encoded)\n",
    "print(label_encoder.inverse_transform([1]))"
   ]
  },
  {
   "cell_type": "code",
   "execution_count": 4,
   "metadata": {},
   "outputs": [],
   "source": [
    "encode_train_dataset1 = [] # for accept\n",
    "encode_train_dataset2 = [] # for reject\n",
    "encode_test_dataset1 = [] # for accept\n",
    "encode_test_dataset2 = [] # for reject\n",
    "\n",
    "for i in range(len(text1_seperate)):\n",
    "    encode_train_dataset1.append(label_encoder.transform(text1_seperate[i]).tolist())\n",
    "    \n",
    "for i in range(len(text2_seperate)):\n",
    "    encode_train_dataset2.append(label_encoder.transform(text2_seperate[i]).tolist())\n",
    "\n",
    "encode_train_dataset = encode_train_dataset1 + encode_train_dataset2\n",
    "label = np.concatenate((np.ones(len(encode_train_dataset1),dtype=int), \n",
    "                       np.zeros(len(encode_train_dataset2),dtype=int)), axis=None)"
   ]
  },
  {
   "cell_type": "code",
   "execution_count": 5,
   "metadata": {},
   "outputs": [],
   "source": [
    "def padding_sentence(sentence, maxlen = 10):\n",
    "    if len(sentence) < maxlen:\n",
    "        sentence.append(0)\n",
    "        padding_sentence(sentence, maxlen)\n",
    "    else:\n",
    "        del sentence[maxlen:]\n",
    "    return sentence"
   ]
  },
  {
   "cell_type": "code",
   "execution_count": 6,
   "metadata": {},
   "outputs": [],
   "source": [
    "for i in range(len(encode_train_dataset)):\n",
    "    padding_sentence(encode_train_dataset[i])\n",
    "\n",
    "# 切割 train, test -----前後五十筆為testing data-----\n",
    "test_len = 50\n",
    "test_dataset = np.array(encode_train_dataset[:test_len] + encode_train_dataset[-test_len-1:-1])\n",
    "train_dataset = np.array(encode_train_dataset[test_len:-test_len])\n",
    "\n",
    "test_label = np.concatenate((label[:test_len], label[-test_len-1:-1]), axis=None)\n",
    "train_label = label[test_len:-test_len]"
   ]
  },
  {
   "cell_type": "code",
   "execution_count": 7,
   "metadata": {},
   "outputs": [],
   "source": [
    "def accuracy(x, target):\n",
    "    count = 0\n",
    "    x1 = x.cpu().data.numpy()\n",
    "    y1 = target.cpu().data.numpy().reshape(-1,1)\n",
    "    for i in range(len(x1)):\n",
    "        if x1[i]>= 0.5:\n",
    "            x1[i] = 1\n",
    "        else:\n",
    "            x1[i] = 0\n",
    "        if x1[i] == y1[i]:\n",
    "            count+=1\n",
    "    return count/len(x)"
   ]
  },
  {
   "cell_type": "markdown",
   "metadata": {},
   "source": [
    "## Building LSTM"
   ]
  },
  {
   "cell_type": "code",
   "execution_count": 8,
   "metadata": {},
   "outputs": [
    {
     "data": {
      "text/plain": [
       "<torch._C.Generator at 0x7fb0410ac950>"
      ]
     },
     "execution_count": 8,
     "metadata": {},
     "output_type": "execute_result"
    }
   ],
   "source": [
    "import torch\n",
    "from torch import nn\n",
    "import torch.nn.functional as F\n",
    "import torch.utils.data as Data\n",
    "import torchvision.datasets as dsets\n",
    "import torchvision.transforms as transforms\n",
    "import matplotlib.pyplot as plt\n",
    "\n",
    "#torch.manual_seed(3) #62\n",
    "torch.manual_seed(5) #60%\n",
    "#torch.manual_seed(8)"
   ]
  },
  {
   "cell_type": "code",
   "execution_count": 9,
   "metadata": {},
   "outputs": [],
   "source": [
    "# Hyper Parameters\n",
    "EPOCH = 1500               # train the training data n times, to save time, we just train 1 epoch\n",
    "BATCH_SIZE = 100\n",
    "TIME_STEP = 10          # rnn time step / image height\n",
    "EMBEDDING_DIM = 64*2\n",
    "INPUT_SIZE = EMBEDDING_DIM         # rnn input size / image width\n",
    "HIDDEN_SIZE = 64\n",
    "LR = 0.001               # learning rate\n",
    "\n",
    "VOCAB_SIZE = max(integer_encoded) - min(integer_encoded) + 1\n",
    "device = torch.device(\"cuda:0\" if torch.cuda.is_available() else \"cpu\")"
   ]
  },
  {
   "cell_type": "code",
   "execution_count": 10,
   "metadata": {},
   "outputs": [],
   "source": [
    "# Build dataloader\n",
    "trainset = Data.TensorDataset(\n",
    "    torch.from_numpy(train_dataset),\n",
    "    torch.from_numpy(train_label) \n",
    ")\n",
    "testset = Data.TensorDataset(\n",
    "    torch.from_numpy(test_dataset),\n",
    "    torch.from_numpy(test_label)\n",
    ")\n",
    "\n",
    "trainloader = torch.utils.data.DataLoader(trainset, batch_size=BATCH_SIZE,\n",
    "                                          shuffle=True, drop_last=False)#num_workers=2)\n",
    "\n",
    "testloader = torch.utils.data.DataLoader(testset, batch_size=BATCH_SIZE,\n",
    "                                          shuffle=True, drop_last=False)# num_workers=2)"
   ]
  },
  {
   "cell_type": "code",
   "execution_count": 11,
   "metadata": {},
   "outputs": [
    {
     "name": "stdout",
     "output_type": "stream",
     "text": [
      "RNN(\n",
      "  (emb): Embedding(3083, 128)\n",
      "  (rnn): LSTM(128, 64, batch_first=True)\n",
      "  (out): Linear(in_features=64, out_features=1, bias=True)\n",
      "  (sgmd): Sigmoid()\n",
      ")\n"
     ]
    }
   ],
   "source": [
    "class RNN(nn.Module):\n",
    "    def __init__(self):\n",
    "        super(RNN, self).__init__()\n",
    "        self.emb = nn.Embedding(VOCAB_SIZE, EMBEDDING_DIM)\n",
    "        self.rnn = nn.LSTM(         # if use nn.RNN(), it hardly learns\n",
    "            input_size=INPUT_SIZE,\n",
    "            hidden_size=HIDDEN_SIZE,         # rnn hidden unit\n",
    "            num_layers=1,           # number of rnn layer\n",
    "            batch_first=True,       # input & output will has batch size as 1s dimension. e.g. (batch, time_step, input_size)\n",
    "        )\n",
    "\n",
    "        self.out = nn.Linear(HIDDEN_SIZE, 1)\n",
    "        self.sgmd = nn.Sigmoid()\n",
    "\n",
    "    def forward(self, x):\n",
    "        # x shape (batch, time_step, input_size)\n",
    "        # r_out shape (batch, time_step, output_size)\n",
    "        # h_n shape (n_layers, batch, hidden_size)\n",
    "        # h_c shape (n_layers, batch, hidden_size)\n",
    "        x = self.emb(x).view((-1, TIME_STEP,EMBEDDING_DIM))\n",
    "        r_out, (h_n, h_c) = self.rnn(x, None)   # None represents zero initial hidden state\n",
    "\n",
    "        # choose r_out at the last time step\n",
    "        out = self.out(r_out[:, -1, :])\n",
    "        out = self.sgmd(out)\n",
    "        return out\n",
    "    \n",
    "    \n",
    "rnn = RNN()\n",
    "rnn.to(device)\n",
    "print(rnn)"
   ]
  },
  {
   "cell_type": "code",
   "execution_count": 12,
   "metadata": {},
   "outputs": [],
   "source": [
    "optimizer = torch.optim.Adam(rnn.parameters(), lr=LR)   # optimize all cnn parameters\n",
    "loss_func = nn.BCELoss()                      "
   ]
  },
  {
   "cell_type": "code",
   "execution_count": 13,
   "metadata": {},
   "outputs": [
    {
     "name": "stdout",
     "output_type": "stream",
     "text": [
      "Epoch:  0 | train loss: 0.6893 | test loss: 0.6976 | test accuracy: 0.5000\n"
     ]
    },
    {
     "name": "stderr",
     "output_type": "stream",
     "text": [
      "/home/god/venvs/tf1.12/lib/python3.5/site-packages/torch/nn/functional.py:2016: UserWarning: Using a target size (torch.Size([100])) that is different to the input size (torch.Size([100, 1])) is deprecated. Please ensure they have the same size.\n",
      "  \"Please ensure they have the same size.\".format(target.size(), input.size()))\n",
      "/home/god/venvs/tf1.12/lib/python3.5/site-packages/torch/nn/functional.py:2016: UserWarning: Using a target size (torch.Size([35])) that is different to the input size (torch.Size([35, 1])) is deprecated. Please ensure they have the same size.\n",
      "  \"Please ensure they have the same size.\".format(target.size(), input.size()))\n"
     ]
    },
    {
     "name": "stdout",
     "output_type": "stream",
     "text": [
      "Epoch:  100 | train loss: 0.0035 | test loss: 3.8966 | test accuracy: 0.5100\n",
      "Epoch:  200 | train loss: 0.0033 | test loss: 4.3206 | test accuracy: 0.5100\n",
      "Epoch:  300 | train loss: 0.0082 | test loss: 4.6377 | test accuracy: 0.5300\n",
      "Epoch:  400 | train loss: 0.0032 | test loss: 4.7918 | test accuracy: 0.5400\n",
      "Epoch:  500 | train loss: 0.0032 | test loss: 4.8392 | test accuracy: 0.5500\n",
      "Epoch:  600 | train loss: 0.0032 | test loss: 4.8377 | test accuracy: 0.5600\n",
      "Epoch:  700 | train loss: 0.0032 | test loss: 5.0180 | test accuracy: 0.5600\n",
      "Epoch:  800 | train loss: 0.0033 | test loss: 5.1010 | test accuracy: 0.5600\n",
      "Epoch:  900 | train loss: 0.0032 | test loss: 5.3987 | test accuracy: 0.5500\n",
      "Epoch:  1000 | train loss: 0.0033 | test loss: 5.4607 | test accuracy: 0.5700\n",
      "Epoch:  1100 | train loss: 0.0034 | test loss: 5.5371 | test accuracy: 0.5800\n",
      "Epoch:  1200 | train loss: 0.0032 | test loss: 5.6957 | test accuracy: 0.6000\n",
      "Epoch:  1300 | train loss: 0.0032 | test loss: 6.4786 | test accuracy: 0.6000\n",
      "Epoch:  1400 | train loss: 0.0032 | test loss: 6.9278 | test accuracy: 0.5900\n"
     ]
    }
   ],
   "source": [
    "# training and testing\n",
    "rnn.train()\n",
    "train_curve=[]\n",
    "test_curve=[]\n",
    "train_accr_curve=[]\n",
    "test_accr_curve=[]\n",
    "for epoch in range(EPOCH):\n",
    "    #print(\"epoch: \", epoch)\n",
    "    test_loss = 0\n",
    "    train_loss = 0\n",
    "    train_accr = 0\n",
    "    test_accr = 0\n",
    "    for step, (b_x, b_y) in enumerate(trainloader):        # gives batch data\n",
    "        b_x = b_x.view(-1, TIME_STEP, 1)              # reshape x to (batch, time_step, input_size)\n",
    "        #print(\"step: \", step)\n",
    "        b_x = b_x.to(device) \n",
    "        #print(\"BEFORE|b_y type: \",b_y.type())\n",
    "        b_y = b_y.to(device, dtype=torch.float)\n",
    "        b_z = b_y\n",
    "        #print(\"AFTER|b_y type: \",b_y.type())\n",
    "        output = rnn(b_x)                               # rnn output\n",
    "        #print(\"output type:\", output.type())\n",
    "        loss = loss_func(output, b_z)                   # cross entropy loss\n",
    "        \n",
    "        train_accr = train_accr + accuracy(rnn(b_x), b_y)\n",
    "        train_loss = train_loss + loss\n",
    "        \n",
    "        optimizer.zero_grad()                           # clear gradients for this training step\n",
    "        loss.backward()                                 # backpropagation, compute gradients\n",
    "        optimizer.step()                                # apply gradients\n",
    "    \n",
    "    train_loss/=(step+1)\n",
    "    train_accr/=(step+1)\n",
    "    train_curve.append(train_loss)\n",
    "    train_accr_curve.append(train_accr)\n",
    "    for step, (b_x, b_y) in enumerate(testloader):\n",
    "        rnn.eval()\n",
    "        \n",
    "        b_x = b_x.view(BATCH_SIZE, TIME_STEP, -1)\n",
    "        b_x = b_x.to(device) \n",
    "        b_y = b_y.to(device, dtype=torch.float)\n",
    "        b_z = b_y\n",
    "        output = rnn(b_x)\n",
    "        loss = loss_func(output, b_z)\n",
    "        \n",
    "        test_accr = test_accr + accuracy(rnn(b_x), b_y)\n",
    "        test_loss = test_loss + loss\n",
    "        \n",
    "        rnn.train()\n",
    "        \n",
    "    test_loss/=(step+1)\n",
    "    test_accr/=(step+1)\n",
    "    test_curve.append(test_loss)\n",
    "    test_accr_curve.append(test_accr)\n",
    "    if(epoch % 100 == 0):\n",
    "        print('Epoch: ', epoch, '| train loss: %.4f' % train_loss.cpu().data.numpy(),\n",
    "                                '| test loss: %.4f' % test_loss.cpu().data.numpy(),\n",
    "                                '| test accuracy: %.4f' % test_accr)"
   ]
  },
  {
   "cell_type": "code",
   "execution_count": 14,
   "metadata": {},
   "outputs": [
    {
     "name": "stderr",
     "output_type": "stream",
     "text": [
      "/home/god/venvs/tf1.12/lib/python3.5/site-packages/torch/serialization.py:250: UserWarning: Couldn't retrieve source code for container of type RNN. It won't be checked for correctness upon loading.\n",
      "  \"type \" + obj.__name__ + \". It won't be checked \"\n"
     ]
    }
   ],
   "source": [
    "torch.save(rnn, '/home/raychiu/HW2/hw2_lstm_model.pt')"
   ]
  },
  {
   "cell_type": "markdown",
   "metadata": {},
   "source": [
    "## Input the paper, and test it"
   ]
  },
  {
   "cell_type": "code",
   "execution_count": 15,
   "metadata": {},
   "outputs": [
    {
     "data": {
      "text/plain": [
       "RNN(\n",
       "  (emb): Embedding(3083, 128)\n",
       "  (rnn): LSTM(128, 64, batch_first=True)\n",
       "  (out): Linear(in_features=64, out_features=1, bias=True)\n",
       "  (sgmd): Sigmoid()\n",
       ")"
      ]
     },
     "execution_count": 15,
     "metadata": {},
     "output_type": "execute_result"
    }
   ],
   "source": [
    "torch.load('/home/raychiu/hw2_lstm_model.pt')"
   ]
  },
  {
   "cell_type": "code",
   "execution_count": 16,
   "metadata": {},
   "outputs": [
    {
     "name": "stdout",
     "output_type": "stream",
     "text": [
      "Markov RNN \n",
      "The accepted probability: 0.062461\n"
     ]
    }
   ],
   "source": [
    "paper_name = ['Markov RNN']\n",
    "#paper_name = ['Generative Adversarial Networks']\n",
    "test_data = paper_name\n",
    "test_data = test_data[0].split(' ')\n",
    "test_data = list(label_encoder.transform(test_data))\n",
    "\n",
    "padding_sentence(test_data)\n",
    "input_of_test = torch.from_numpy(array(test_data)).view(-1,10,1)\n",
    "\n",
    "rnn.eval()\n",
    "prob = rnn(input_of_test.to(device)).cpu().data.numpy()[0][0]\n",
    "print(paper_name[0],\"\\nThe accepted probability: %5f\" %prob)"
   ]
  },
  {
   "cell_type": "markdown",
   "metadata": {},
   "source": [
    "## Training Curve and Testing Curve"
   ]
  },
  {
   "cell_type": "code",
   "execution_count": 26,
   "metadata": {
    "scrolled": true
   },
   "outputs": [
    {
     "data": {
      "image/png": "[encoded data removed]",
      "text/plain": [
       "<Figure size 432x288 with 1 Axes>"
      ]
     },
     "metadata": {},
     "output_type": "display_data"
    },
    {
     "data": {
      "image/png": "[encoded data removed]",
      "text/plain": [
       "<Figure size 432x288 with 1 Axes>"
      ]
     },
     "metadata": {},
     "output_type": "display_data"
    }
   ],
   "source": [
    "import matplotlib.pyplot as plt\n",
    "\n",
    "plt.style.use(\"ggplot\")\n",
    "plt.title(\"LSTM Learning Curve\")\n",
    "train, = plt.plot(range(len(train_curve)), train_curve, label='train')\n",
    "#test, = plt.plot(range(len(test_curve)), test_curve, label='test')\n",
    "plt.legend(handles = [train])\n",
    "plt.savefig('LSTM_loss.png')\n",
    "plt.show()\n",
    "\n",
    "plt.title(\"LSTM Accuracy Curve\")\n",
    "train, = plt.plot(range(len(train_accr_curve)), train_accr_curve, label='train')\n",
    "test, = plt.plot(range(len(test_accr_curve)), test_accr_curve, label='test')\n",
    "plt.legend(handles = [train, test])\n",
    "plt.ylim(0.4,1.1)\n",
    "plt.savefig('LSTM_accr.png')\n",
    "plt.show()"
   ]
  },
  {
   "cell_type": "markdown",
   "metadata": {},
   "source": [
    "## RNN implementation"
   ]
  },
  {
   "cell_type": "code",
   "execution_count": 18,
   "metadata": {
    "scrolled": true
   },
   "outputs": [
    {
     "name": "stdout",
     "output_type": "stream",
     "text": [
      "RNN_rnn(\n",
      "  (emb): Embedding(3083, 128)\n",
      "  (rnn): RNN(128, 64, batch_first=True)\n",
      "  (out): Linear(in_features=64, out_features=1, bias=True)\n",
      "  (sgmd): Sigmoid()\n",
      ")\n"
     ]
    }
   ],
   "source": [
    "class RNN_rnn(nn.Module):\n",
    "    def __init__(self):\n",
    "        super(RNN_rnn, self).__init__()\n",
    "        self.emb = nn.Embedding(VOCAB_SIZE, EMBEDDING_DIM)\n",
    "        self.rnn = nn.RNN(         # if use nn.RNN(), it hardly learns\n",
    "            input_size=INPUT_SIZE,\n",
    "            hidden_size=HIDDEN_SIZE,         # rnn hidden unit\n",
    "            num_layers=1,           # number of rnn layer\n",
    "            batch_first=True,       # input & output will has batch size as 1s dimension. e.g. (batch, time_step, input_size)\n",
    "        )\n",
    "\n",
    "        self.out = nn.Linear(HIDDEN_SIZE, 1)\n",
    "        self.sgmd = nn.Sigmoid()\n",
    "\n",
    "    def forward(self, x):\n",
    "        # x shape (batch, time_step, input_size)\n",
    "        # r_out shape (batch, time_step, output_size)\n",
    "        # h_n shape (n_layers, batch, hidden_size)\n",
    "        # h_c shape (n_layers, batch, hidden_size)\n",
    "        x = self.emb(x).view((-1, TIME_STEP,EMBEDDING_DIM))\n",
    "        r_out, h_n = self.rnn(x, None)   # None represents zero initial hidden state\n",
    "\n",
    "        # choose r_out at the last time step\n",
    "        out = self.out(r_out[:, -1, :])\n",
    "        out = self.sgmd(out)\n",
    "        return out\n",
    "    \n",
    "    \n",
    "rnn1 = RNN_rnn()\n",
    "rnn1.to(device)\n",
    "print(rnn1)"
   ]
  },
  {
   "cell_type": "code",
   "execution_count": 19,
   "metadata": {},
   "outputs": [],
   "source": [
    "optimizer = torch.optim.Adam(rnn1.parameters(), lr=LR)   # optimize all cnn parameters\n",
    "loss_func = nn.BCELoss()        "
   ]
  },
  {
   "cell_type": "code",
   "execution_count": 20,
   "metadata": {},
   "outputs": [
    {
     "name": "stderr",
     "output_type": "stream",
     "text": [
      "/home/god/venvs/tf1.12/lib/python3.5/site-packages/torch/nn/functional.py:2016: UserWarning: Using a target size (torch.Size([100])) that is different to the input size (torch.Size([100, 1])) is deprecated. Please ensure they have the same size.\n",
      "  \"Please ensure they have the same size.\".format(target.size(), input.size()))\n",
      "/home/god/venvs/tf1.12/lib/python3.5/site-packages/torch/nn/functional.py:2016: UserWarning: Using a target size (torch.Size([35])) that is different to the input size (torch.Size([35, 1])) is deprecated. Please ensure they have the same size.\n",
      "  \"Please ensure they have the same size.\".format(target.size(), input.size()))\n"
     ]
    },
    {
     "name": "stdout",
     "output_type": "stream",
     "text": [
      "Epoch:  0 | train loss: 0.7067 | test loss: 0.6831 | test accuracy: 0.5600\n",
      "Epoch:  100 | train loss: 0.0044 | test loss: 2.8310 | test accuracy: 0.5000\n",
      "Epoch:  200 | train loss: 0.0038 | test loss: 3.1927 | test accuracy: 0.4700\n",
      "Epoch:  300 | train loss: 0.0034 | test loss: 3.4647 | test accuracy: 0.4800\n",
      "Epoch:  400 | train loss: 0.0033 | test loss: 3.7116 | test accuracy: 0.4600\n",
      "Epoch:  500 | train loss: 0.0034 | test loss: 3.1755 | test accuracy: 0.5200\n",
      "Epoch:  600 | train loss: 0.0033 | test loss: 3.5691 | test accuracy: 0.5400\n",
      "Epoch:  700 | train loss: 0.0034 | test loss: 3.6582 | test accuracy: 0.5300\n",
      "Epoch:  800 | train loss: 0.0033 | test loss: 3.9056 | test accuracy: 0.5300\n",
      "Epoch:  900 | train loss: 0.0033 | test loss: 4.0234 | test accuracy: 0.5200\n",
      "Epoch:  1000 | train loss: 0.0032 | test loss: 3.9223 | test accuracy: 0.5300\n",
      "Epoch:  1100 | train loss: 0.0034 | test loss: 3.3346 | test accuracy: 0.4900\n",
      "Epoch:  1200 | train loss: 0.0033 | test loss: 3.5148 | test accuracy: 0.5000\n",
      "Epoch:  1300 | train loss: 0.0033 | test loss: 3.4901 | test accuracy: 0.5300\n",
      "Epoch:  1400 | train loss: 0.0033 | test loss: 3.4617 | test accuracy: 0.5600\n"
     ]
    }
   ],
   "source": [
    "# training and testing\n",
    "train_curve1=[]\n",
    "test_curve1=[]\n",
    "train_accr_curve1=[]\n",
    "test_accr_curve1=[]\n",
    "for epoch in range(EPOCH):\n",
    "    #print(\"epoch: \", epoch)\n",
    "    test_loss = 0\n",
    "    train_loss = 0\n",
    "    train_accr = 0\n",
    "    test_accr = 0\n",
    "    \n",
    "    for step, (b_x, b_y) in enumerate(trainloader):        # gives batch data\n",
    "        b_x = b_x.view(-1, TIME_STEP, 1)              # reshape x to (batch, time_step, input_size)\n",
    "        #print(\"step: \", step)\n",
    "        b_x = b_x.to(device) \n",
    "        #print(\"BEFORE|b_y type: \",b_y.type())\n",
    "        b_y = b_y.to(device, dtype=torch.float)\n",
    "        b_z = b_y\n",
    "        #print(\"AFTER|b_y type: \",b_y.type())\n",
    "        output = rnn1(b_x)                               # rnn output\n",
    "        #print(\"output type:\", output.type())\n",
    "        loss = loss_func(output, b_z)                   # cross entropy loss\n",
    "        \n",
    "        train_loss = train_loss + loss\n",
    "        train_accr = train_accr + accuracy(rnn1(b_x), b_y)\n",
    "        \n",
    "        optimizer.zero_grad()                           # clear gradients for this training step\n",
    "        loss.backward()                                 # backpropagation, compute gradients\n",
    "        optimizer.step()                                # apply gradients\n",
    "    \n",
    "    train_loss/=(step+1)\n",
    "    train_accr/=(step+1)\n",
    "    train_curve1.append(train_loss)\n",
    "    train_accr_curve1.append(train_accr)\n",
    "    \n",
    "    for step, (b_x, b_y) in enumerate(testloader):\n",
    "        rnn1.eval()\n",
    "        \n",
    "        b_x = b_x.view(BATCH_SIZE, TIME_STEP, -1)\n",
    "        b_x = b_x.to(device) \n",
    "        b_y = b_y.to(device, dtype=torch.float)\n",
    "        b_z = b_y\n",
    "        output = rnn1(b_x)\n",
    "        loss = loss_func(output, b_z)\n",
    "        \n",
    "        test_loss = test_loss + loss\n",
    "        test_accr = test_accr + accuracy(rnn1(b_x), b_y)\n",
    "        \n",
    "        rnn1.train()\n",
    "        \n",
    "    test_loss/=(step+1)\n",
    "    test_accr/=(step+1)\n",
    "    test_curve1.append(test_loss)\n",
    "    test_accr_curve1.append(test_accr)\n",
    "    \n",
    "    if(epoch % 100 == 0):\n",
    "        print('Epoch: ', epoch, '| train loss: %.4f' % train_loss.cpu().data.numpy(),\n",
    "                                '| test loss: %.4f' % test_loss.cpu().data.numpy(),\n",
    "                                '| test accuracy: %.4f' % test_accr)"
   ]
  },
  {
   "cell_type": "code",
   "execution_count": 21,
   "metadata": {
    "scrolled": true
   },
   "outputs": [
    {
     "name": "stderr",
     "output_type": "stream",
     "text": [
      "/home/god/venvs/tf1.12/lib/python3.5/site-packages/torch/serialization.py:250: UserWarning: Couldn't retrieve source code for container of type RNN_rnn. It won't be checked for correctness upon loading.\n",
      "  \"type \" + obj.__name__ + \". It won't be checked \"\n"
     ]
    }
   ],
   "source": [
    "torch.save(rnn1, '/home/raychiu/hw2_rnn_model.pt')"
   ]
  },
  {
   "cell_type": "code",
   "execution_count": 22,
   "metadata": {},
   "outputs": [
    {
     "data": {
      "text/plain": [
       "RNN_rnn(\n",
       "  (emb): Embedding(3083, 128)\n",
       "  (rnn): RNN(128, 64, batch_first=True)\n",
       "  (out): Linear(in_features=64, out_features=1, bias=True)\n",
       "  (sgmd): Sigmoid()\n",
       ")"
      ]
     },
     "execution_count": 22,
     "metadata": {},
     "output_type": "execute_result"
    }
   ],
   "source": [
    "torch.load('/home/raychiu/HW2/hw2_rnn_model.pt')"
   ]
  },
  {
   "cell_type": "code",
   "execution_count": 23,
   "metadata": {},
   "outputs": [
    {
     "name": "stdout",
     "output_type": "stream",
     "text": [
      "Markov RNN \n",
      "The accepted probability: 0.002939\n"
     ]
    }
   ],
   "source": [
    "paper_name = ['Markov RNN']\n",
    "#paper_name = ['Generative Adversarial Networks']\n",
    "test_data = paper_name\n",
    "test_data = test_data[0].split(' ')\n",
    "test_data = list(label_encoder.transform(test_data))\n",
    "\n",
    "padding_sentence(test_data)\n",
    "input_of_test = torch.from_numpy(array(test_data)).view(-1,10,1)\n",
    "\n",
    "rnn1.eval()\n",
    "prob = rnn1(input_of_test.to(device)).cpu().data.numpy()[0][0]\n",
    "print(paper_name[0],\"\\nThe accepted probability: %5f\" %prob)"
   ]
  },
  {
   "cell_type": "code",
   "execution_count": 27,
   "metadata": {},
   "outputs": [
    {
     "data": {
      "image/png": "[encoded data removed]",
      "text/plain": [
       "<Figure size 432x288 with 1 Axes>"
      ]
     },
     "metadata": {},
     "output_type": "display_data"
    },
    {
     "data": {
      "image/png": "[encoded data removed]",
      "text/plain": [
       "<Figure size 432x288 with 1 Axes>"
      ]
     },
     "metadata": {},
     "output_type": "display_data"
    }
   ],
   "source": [
    "import matplotlib.pyplot as plt\n",
    "\n",
    "plt.style.use(\"ggplot\")\n",
    "plt.title(\"RNN Learning Curve\")\n",
    "train, = plt.plot(range(len(train_curve1)), train_curve1, label='train')\n",
    "#test, = plt.plot(range(len(test_curve1)), test_curve1, label='test')\n",
    "plt.legend(handles = [train])\n",
    "plt.savefig('RNN_loss.png')\n",
    "plt.show()\n",
    "\n",
    "plt.title(\"RNN Accuracy Curve\")\n",
    "train, = plt.plot(range(len(train_accr_curve1)), train_accr_curve1, label='train')\n",
    "test, = plt.plot(range(len(test_accr_curve1)), test_accr_curve1, label='test')\n",
    "plt.legend(handles = [train, test])\n",
    "plt.ylim(0.4,1.1)\n",
    "plt.savefig('RNN_accr.png')\n",
    "plt.show()"
   ]
  },
  {
   "cell_type": "code",
   "execution_count": null,
   "metadata": {},
   "outputs": [],
   "source": []
  }
 ],
 "metadata": {
  "kernelspec": {
   "display_name": "tf1.12",
   "language": "python",
   "name": "tf1.12"
  },
  "language_info": {
   "codemirror_mode": {
    "name": "ipython",
    "version": 3
   },
   "file_extension": ".py",
   "mimetype": "text/x-python",
   "name": "python",
   "nbconvert_exporter": "python",
   "pygments_lexer": "ipython3",
   "version": "3.5.2"
  }
 },
 "nbformat": 4,
 "nbformat_minor": 2
}
